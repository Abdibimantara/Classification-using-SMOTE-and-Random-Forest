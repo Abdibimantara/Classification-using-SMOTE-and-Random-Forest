{
  "nbformat": 4,
  "nbformat_minor": 0,
  "metadata": {
    "colab": {
      "name": "malicious&bening website.ipynb",
      "provenance": [],
      "collapsed_sections": []
    },
    "kernelspec": {
      "name": "python3",
      "display_name": "Python 3"
    }
  },
  "cells": [
    {
      "cell_type": "markdown",
      "metadata": {
        "id": "TDvfUcl7PvHv"
      },
      "source": [
        "Klasifikasi Malicious dan Bening Website.\r\n",
        "Dataset yang digunakan berasal dari webiste Kaggle :https://www.kaggle.com/xwolf12/malicious-and-benign-websites\r\n",
        " \r\n",
        "Pengerjaan dalam percobaan kali ini terbagi menjadi beberapa tahapan seperti \r\n",
        "\r\n",
        "1.   Import Library yang dibutuhkan \r\n",
        "2.   Input data serta tahapan preproseccing dan analysis data\r\n",
        "3.   Pembuatan Model klasifikasi menggunakan algoritma Random Forest\r\n",
        "4.   Hasil pengujian klasifikasi menggunakan BACC\r\n",
        "\r\n"
      ]
    },
    {
      "cell_type": "markdown",
      "metadata": {
        "id": "8cXDDwyMJ5xM"
      },
      "source": [
        "**Tahapan 1. Import Library yang dibutuhkan**"
      ]
    },
    {
      "cell_type": "code",
      "metadata": {
        "id": "3vPVBNVAi_ZF"
      },
      "source": [
        "import pandas as pd\n",
        "import numpy as np\n",
        "import seaborn as sns\n",
        "from sklearn.model_selection import train_test_split\n",
        "import matplotlib.pyplot as plt\n",
        "from sklearn.ensemble import ExtraTreesClassifier\n",
        "from sklearn import metrics\n",
        "from sklearn.metrics import classification_report, confusion_matrix\n",
        "from sklearn.metrics import roc_curve, roc_auc_score,auc\n",
        "from sklearn.metrics import average_precision_score, precision_recall_curve\n",
        "from imblearn.over_sampling import SMOTE\n",
        "from sklearn.ensemble import RandomForestClassifier"
      ],
      "execution_count": null,
      "outputs": []
    },
    {
      "cell_type": "markdown",
      "metadata": {
        "id": "EPMEE0rPKFdH"
      },
      "source": [
        "Tahapan 2. Proses Load dataset dan analysis dataset"
      ]
    },
    {
      "cell_type": "code",
      "metadata": {
        "colab": {
          "base_uri": "https://localhost:8080/"
        },
        "id": "UarAFmosjCdi",
        "outputId": "7a1d38a3-c053-4b9e-a116-bc8765317c52"
      },
      "source": [
        "data=pd.read_csv('/content/drive/My Drive/Riset/malicious website/dataset.csv')\n",
        "data.info()"
      ],
      "execution_count": null,
      "outputs": [
        {
          "output_type": "stream",
          "text": [
            "<class 'pandas.core.frame.DataFrame'>\n",
            "RangeIndex: 1781 entries, 0 to 1780\n",
            "Data columns (total 21 columns):\n",
            " #   Column                     Non-Null Count  Dtype  \n",
            "---  ------                     --------------  -----  \n",
            " 0   URL                        1781 non-null   object \n",
            " 1   URL_LENGTH                 1781 non-null   int64  \n",
            " 2   NUMBER_SPECIAL_CHARACTERS  1781 non-null   int64  \n",
            " 3   CHARSET                    1781 non-null   object \n",
            " 4   SERVER                     1780 non-null   object \n",
            " 5   CONTENT_LENGTH             969 non-null    float64\n",
            " 6   WHOIS_COUNTRY              1781 non-null   object \n",
            " 7   WHOIS_STATEPRO             1781 non-null   object \n",
            " 8   WHOIS_REGDATE              1781 non-null   object \n",
            " 9   WHOIS_UPDATED_DATE         1781 non-null   object \n",
            " 10  TCP_CONVERSATION_EXCHANGE  1781 non-null   int64  \n",
            " 11  DIST_REMOTE_TCP_PORT       1781 non-null   int64  \n",
            " 12  REMOTE_IPS                 1781 non-null   int64  \n",
            " 13  APP_BYTES                  1781 non-null   int64  \n",
            " 14  SOURCE_APP_PACKETS         1781 non-null   int64  \n",
            " 15  REMOTE_APP_PACKETS         1781 non-null   int64  \n",
            " 16  SOURCE_APP_BYTES           1781 non-null   int64  \n",
            " 17  REMOTE_APP_BYTES           1781 non-null   int64  \n",
            " 18  APP_PACKETS                1781 non-null   int64  \n",
            " 19  DNS_QUERY_TIMES            1780 non-null   float64\n",
            " 20  Type                       1781 non-null   int64  \n",
            "dtypes: float64(2), int64(12), object(7)\n",
            "memory usage: 292.3+ KB\n"
          ],
          "name": "stdout"
        }
      ]
    },
    {
      "cell_type": "code",
      "metadata": {
        "colab": {
          "base_uri": "https://localhost:8080/",
          "height": 132
        },
        "id": "fu-mGQA8jFDp",
        "outputId": "d7e550d6-e31b-4d6e-dd3a-94a90e14b356"
      },
      "source": [
        "dataset=data.drop(['URL','CHARSET','SERVER','WHOIS_COUNTRY','WHOIS_STATEPRO','WHOIS_REGDATE','WHOIS_UPDATED_DATE'],axis=1)\n",
        "dataset.head(2)"
      ],
      "execution_count": null,
      "outputs": [
        {
          "output_type": "execute_result",
          "data": {
            "text/html": [
              "<div>\n",
              "<style scoped>\n",
              "    .dataframe tbody tr th:only-of-type {\n",
              "        vertical-align: middle;\n",
              "    }\n",
              "\n",
              "    .dataframe tbody tr th {\n",
              "        vertical-align: top;\n",
              "    }\n",
              "\n",
              "    .dataframe thead th {\n",
              "        text-align: right;\n",
              "    }\n",
              "</style>\n",
              "<table border=\"1\" class=\"dataframe\">\n",
              "  <thead>\n",
              "    <tr style=\"text-align: right;\">\n",
              "      <th></th>\n",
              "      <th>URL_LENGTH</th>\n",
              "      <th>NUMBER_SPECIAL_CHARACTERS</th>\n",
              "      <th>CONTENT_LENGTH</th>\n",
              "      <th>TCP_CONVERSATION_EXCHANGE</th>\n",
              "      <th>DIST_REMOTE_TCP_PORT</th>\n",
              "      <th>REMOTE_IPS</th>\n",
              "      <th>APP_BYTES</th>\n",
              "      <th>SOURCE_APP_PACKETS</th>\n",
              "      <th>REMOTE_APP_PACKETS</th>\n",
              "      <th>SOURCE_APP_BYTES</th>\n",
              "      <th>REMOTE_APP_BYTES</th>\n",
              "      <th>APP_PACKETS</th>\n",
              "      <th>DNS_QUERY_TIMES</th>\n",
              "      <th>Type</th>\n",
              "    </tr>\n",
              "  </thead>\n",
              "  <tbody>\n",
              "    <tr>\n",
              "      <th>0</th>\n",
              "      <td>16</td>\n",
              "      <td>7</td>\n",
              "      <td>263.0</td>\n",
              "      <td>7</td>\n",
              "      <td>0</td>\n",
              "      <td>2</td>\n",
              "      <td>700</td>\n",
              "      <td>9</td>\n",
              "      <td>10</td>\n",
              "      <td>1153</td>\n",
              "      <td>832</td>\n",
              "      <td>9</td>\n",
              "      <td>2.0</td>\n",
              "      <td>1</td>\n",
              "    </tr>\n",
              "    <tr>\n",
              "      <th>1</th>\n",
              "      <td>16</td>\n",
              "      <td>6</td>\n",
              "      <td>15087.0</td>\n",
              "      <td>17</td>\n",
              "      <td>7</td>\n",
              "      <td>4</td>\n",
              "      <td>1230</td>\n",
              "      <td>17</td>\n",
              "      <td>19</td>\n",
              "      <td>1265</td>\n",
              "      <td>1230</td>\n",
              "      <td>17</td>\n",
              "      <td>0.0</td>\n",
              "      <td>0</td>\n",
              "    </tr>\n",
              "  </tbody>\n",
              "</table>\n",
              "</div>"
            ],
            "text/plain": [
              "   URL_LENGTH  NUMBER_SPECIAL_CHARACTERS  ...  DNS_QUERY_TIMES  Type\n",
              "0          16                          7  ...              2.0     1\n",
              "1          16                          6  ...              0.0     0\n",
              "\n",
              "[2 rows x 14 columns]"
            ]
          },
          "metadata": {
            "tags": []
          },
          "execution_count": 34
        }
      ]
    },
    {
      "cell_type": "code",
      "metadata": {
        "colab": {
          "base_uri": "https://localhost:8080/",
          "height": 320
        },
        "id": "aG-ZpVh9jP2r",
        "outputId": "4f3b8bb8-dba4-45cf-f3fb-e7bdb52ac57e"
      },
      "source": [
        "dataset.describe()"
      ],
      "execution_count": null,
      "outputs": [
        {
          "output_type": "execute_result",
          "data": {
            "text/html": [
              "<div>\n",
              "<style scoped>\n",
              "    .dataframe tbody tr th:only-of-type {\n",
              "        vertical-align: middle;\n",
              "    }\n",
              "\n",
              "    .dataframe tbody tr th {\n",
              "        vertical-align: top;\n",
              "    }\n",
              "\n",
              "    .dataframe thead th {\n",
              "        text-align: right;\n",
              "    }\n",
              "</style>\n",
              "<table border=\"1\" class=\"dataframe\">\n",
              "  <thead>\n",
              "    <tr style=\"text-align: right;\">\n",
              "      <th></th>\n",
              "      <th>URL_LENGTH</th>\n",
              "      <th>NUMBER_SPECIAL_CHARACTERS</th>\n",
              "      <th>CONTENT_LENGTH</th>\n",
              "      <th>TCP_CONVERSATION_EXCHANGE</th>\n",
              "      <th>DIST_REMOTE_TCP_PORT</th>\n",
              "      <th>REMOTE_IPS</th>\n",
              "      <th>APP_BYTES</th>\n",
              "      <th>SOURCE_APP_PACKETS</th>\n",
              "      <th>REMOTE_APP_PACKETS</th>\n",
              "      <th>SOURCE_APP_BYTES</th>\n",
              "      <th>REMOTE_APP_BYTES</th>\n",
              "      <th>APP_PACKETS</th>\n",
              "      <th>DNS_QUERY_TIMES</th>\n",
              "      <th>Type</th>\n",
              "    </tr>\n",
              "  </thead>\n",
              "  <tbody>\n",
              "    <tr>\n",
              "      <th>count</th>\n",
              "      <td>1781.000000</td>\n",
              "      <td>1781.000000</td>\n",
              "      <td>969.000000</td>\n",
              "      <td>1781.000000</td>\n",
              "      <td>1781.000000</td>\n",
              "      <td>1781.000000</td>\n",
              "      <td>1.781000e+03</td>\n",
              "      <td>1781.000000</td>\n",
              "      <td>1781.000000</td>\n",
              "      <td>1.781000e+03</td>\n",
              "      <td>1.781000e+03</td>\n",
              "      <td>1781.000000</td>\n",
              "      <td>1780.000000</td>\n",
              "      <td>1781.000000</td>\n",
              "    </tr>\n",
              "    <tr>\n",
              "      <th>mean</th>\n",
              "      <td>56.961258</td>\n",
              "      <td>11.111735</td>\n",
              "      <td>11726.927761</td>\n",
              "      <td>16.261089</td>\n",
              "      <td>5.472768</td>\n",
              "      <td>3.060640</td>\n",
              "      <td>2.982339e+03</td>\n",
              "      <td>18.540146</td>\n",
              "      <td>18.746210</td>\n",
              "      <td>1.589255e+04</td>\n",
              "      <td>3.155599e+03</td>\n",
              "      <td>18.540146</td>\n",
              "      <td>2.263483</td>\n",
              "      <td>0.121280</td>\n",
              "    </tr>\n",
              "    <tr>\n",
              "      <th>std</th>\n",
              "      <td>27.555586</td>\n",
              "      <td>4.549896</td>\n",
              "      <td>36391.809051</td>\n",
              "      <td>40.500975</td>\n",
              "      <td>21.807327</td>\n",
              "      <td>3.386975</td>\n",
              "      <td>5.605057e+04</td>\n",
              "      <td>41.627173</td>\n",
              "      <td>46.397969</td>\n",
              "      <td>6.986193e+04</td>\n",
              "      <td>5.605378e+04</td>\n",
              "      <td>41.627173</td>\n",
              "      <td>2.930853</td>\n",
              "      <td>0.326544</td>\n",
              "    </tr>\n",
              "    <tr>\n",
              "      <th>min</th>\n",
              "      <td>16.000000</td>\n",
              "      <td>5.000000</td>\n",
              "      <td>0.000000</td>\n",
              "      <td>0.000000</td>\n",
              "      <td>0.000000</td>\n",
              "      <td>0.000000</td>\n",
              "      <td>0.000000e+00</td>\n",
              "      <td>0.000000</td>\n",
              "      <td>0.000000</td>\n",
              "      <td>0.000000e+00</td>\n",
              "      <td>0.000000e+00</td>\n",
              "      <td>0.000000</td>\n",
              "      <td>0.000000</td>\n",
              "      <td>0.000000</td>\n",
              "    </tr>\n",
              "    <tr>\n",
              "      <th>25%</th>\n",
              "      <td>39.000000</td>\n",
              "      <td>8.000000</td>\n",
              "      <td>324.000000</td>\n",
              "      <td>0.000000</td>\n",
              "      <td>0.000000</td>\n",
              "      <td>0.000000</td>\n",
              "      <td>0.000000e+00</td>\n",
              "      <td>0.000000</td>\n",
              "      <td>0.000000</td>\n",
              "      <td>0.000000e+00</td>\n",
              "      <td>0.000000e+00</td>\n",
              "      <td>0.000000</td>\n",
              "      <td>0.000000</td>\n",
              "      <td>0.000000</td>\n",
              "    </tr>\n",
              "    <tr>\n",
              "      <th>50%</th>\n",
              "      <td>49.000000</td>\n",
              "      <td>10.000000</td>\n",
              "      <td>1853.000000</td>\n",
              "      <td>7.000000</td>\n",
              "      <td>0.000000</td>\n",
              "      <td>2.000000</td>\n",
              "      <td>6.720000e+02</td>\n",
              "      <td>8.000000</td>\n",
              "      <td>9.000000</td>\n",
              "      <td>5.790000e+02</td>\n",
              "      <td>7.350000e+02</td>\n",
              "      <td>8.000000</td>\n",
              "      <td>0.000000</td>\n",
              "      <td>0.000000</td>\n",
              "    </tr>\n",
              "    <tr>\n",
              "      <th>75%</th>\n",
              "      <td>68.000000</td>\n",
              "      <td>13.000000</td>\n",
              "      <td>11323.000000</td>\n",
              "      <td>22.000000</td>\n",
              "      <td>5.000000</td>\n",
              "      <td>5.000000</td>\n",
              "      <td>2.328000e+03</td>\n",
              "      <td>26.000000</td>\n",
              "      <td>25.000000</td>\n",
              "      <td>9.806000e+03</td>\n",
              "      <td>2.701000e+03</td>\n",
              "      <td>26.000000</td>\n",
              "      <td>4.000000</td>\n",
              "      <td>0.000000</td>\n",
              "    </tr>\n",
              "    <tr>\n",
              "      <th>max</th>\n",
              "      <td>249.000000</td>\n",
              "      <td>43.000000</td>\n",
              "      <td>649263.000000</td>\n",
              "      <td>1194.000000</td>\n",
              "      <td>708.000000</td>\n",
              "      <td>17.000000</td>\n",
              "      <td>2.362906e+06</td>\n",
              "      <td>1198.000000</td>\n",
              "      <td>1284.000000</td>\n",
              "      <td>2.060012e+06</td>\n",
              "      <td>2.362906e+06</td>\n",
              "      <td>1198.000000</td>\n",
              "      <td>20.000000</td>\n",
              "      <td>1.000000</td>\n",
              "    </tr>\n",
              "  </tbody>\n",
              "</table>\n",
              "</div>"
            ],
            "text/plain": [
              "        URL_LENGTH  NUMBER_SPECIAL_CHARACTERS  ...  DNS_QUERY_TIMES         Type\n",
              "count  1781.000000                1781.000000  ...      1780.000000  1781.000000\n",
              "mean     56.961258                  11.111735  ...         2.263483     0.121280\n",
              "std      27.555586                   4.549896  ...         2.930853     0.326544\n",
              "min      16.000000                   5.000000  ...         0.000000     0.000000\n",
              "25%      39.000000                   8.000000  ...         0.000000     0.000000\n",
              "50%      49.000000                  10.000000  ...         0.000000     0.000000\n",
              "75%      68.000000                  13.000000  ...         4.000000     0.000000\n",
              "max     249.000000                  43.000000  ...        20.000000     1.000000\n",
              "\n",
              "[8 rows x 14 columns]"
            ]
          },
          "metadata": {
            "tags": []
          },
          "execution_count": 35
        }
      ]
    },
    {
      "cell_type": "code",
      "metadata": {
        "colab": {
          "base_uri": "https://localhost:8080/",
          "height": 444
        },
        "id": "NYpzx6WOjaTi",
        "outputId": "0b92c543-1274-4fd1-f4c8-be6044c4359c"
      },
      "source": [
        "np.isnan(dataset)"
      ],
      "execution_count": null,
      "outputs": [
        {
          "output_type": "execute_result",
          "data": {
            "text/html": [
              "<div>\n",
              "<style scoped>\n",
              "    .dataframe tbody tr th:only-of-type {\n",
              "        vertical-align: middle;\n",
              "    }\n",
              "\n",
              "    .dataframe tbody tr th {\n",
              "        vertical-align: top;\n",
              "    }\n",
              "\n",
              "    .dataframe thead th {\n",
              "        text-align: right;\n",
              "    }\n",
              "</style>\n",
              "<table border=\"1\" class=\"dataframe\">\n",
              "  <thead>\n",
              "    <tr style=\"text-align: right;\">\n",
              "      <th></th>\n",
              "      <th>URL_LENGTH</th>\n",
              "      <th>NUMBER_SPECIAL_CHARACTERS</th>\n",
              "      <th>CONTENT_LENGTH</th>\n",
              "      <th>TCP_CONVERSATION_EXCHANGE</th>\n",
              "      <th>DIST_REMOTE_TCP_PORT</th>\n",
              "      <th>REMOTE_IPS</th>\n",
              "      <th>APP_BYTES</th>\n",
              "      <th>SOURCE_APP_PACKETS</th>\n",
              "      <th>REMOTE_APP_PACKETS</th>\n",
              "      <th>SOURCE_APP_BYTES</th>\n",
              "      <th>REMOTE_APP_BYTES</th>\n",
              "      <th>APP_PACKETS</th>\n",
              "      <th>DNS_QUERY_TIMES</th>\n",
              "      <th>Type</th>\n",
              "    </tr>\n",
              "  </thead>\n",
              "  <tbody>\n",
              "    <tr>\n",
              "      <th>0</th>\n",
              "      <td>False</td>\n",
              "      <td>False</td>\n",
              "      <td>False</td>\n",
              "      <td>False</td>\n",
              "      <td>False</td>\n",
              "      <td>False</td>\n",
              "      <td>False</td>\n",
              "      <td>False</td>\n",
              "      <td>False</td>\n",
              "      <td>False</td>\n",
              "      <td>False</td>\n",
              "      <td>False</td>\n",
              "      <td>False</td>\n",
              "      <td>False</td>\n",
              "    </tr>\n",
              "    <tr>\n",
              "      <th>1</th>\n",
              "      <td>False</td>\n",
              "      <td>False</td>\n",
              "      <td>False</td>\n",
              "      <td>False</td>\n",
              "      <td>False</td>\n",
              "      <td>False</td>\n",
              "      <td>False</td>\n",
              "      <td>False</td>\n",
              "      <td>False</td>\n",
              "      <td>False</td>\n",
              "      <td>False</td>\n",
              "      <td>False</td>\n",
              "      <td>False</td>\n",
              "      <td>False</td>\n",
              "    </tr>\n",
              "    <tr>\n",
              "      <th>2</th>\n",
              "      <td>False</td>\n",
              "      <td>False</td>\n",
              "      <td>False</td>\n",
              "      <td>False</td>\n",
              "      <td>False</td>\n",
              "      <td>False</td>\n",
              "      <td>False</td>\n",
              "      <td>False</td>\n",
              "      <td>False</td>\n",
              "      <td>False</td>\n",
              "      <td>False</td>\n",
              "      <td>False</td>\n",
              "      <td>False</td>\n",
              "      <td>False</td>\n",
              "    </tr>\n",
              "    <tr>\n",
              "      <th>3</th>\n",
              "      <td>False</td>\n",
              "      <td>False</td>\n",
              "      <td>False</td>\n",
              "      <td>False</td>\n",
              "      <td>False</td>\n",
              "      <td>False</td>\n",
              "      <td>False</td>\n",
              "      <td>False</td>\n",
              "      <td>False</td>\n",
              "      <td>False</td>\n",
              "      <td>False</td>\n",
              "      <td>False</td>\n",
              "      <td>False</td>\n",
              "      <td>False</td>\n",
              "    </tr>\n",
              "    <tr>\n",
              "      <th>4</th>\n",
              "      <td>False</td>\n",
              "      <td>False</td>\n",
              "      <td>False</td>\n",
              "      <td>False</td>\n",
              "      <td>False</td>\n",
              "      <td>False</td>\n",
              "      <td>False</td>\n",
              "      <td>False</td>\n",
              "      <td>False</td>\n",
              "      <td>False</td>\n",
              "      <td>False</td>\n",
              "      <td>False</td>\n",
              "      <td>False</td>\n",
              "      <td>False</td>\n",
              "    </tr>\n",
              "    <tr>\n",
              "      <th>...</th>\n",
              "      <td>...</td>\n",
              "      <td>...</td>\n",
              "      <td>...</td>\n",
              "      <td>...</td>\n",
              "      <td>...</td>\n",
              "      <td>...</td>\n",
              "      <td>...</td>\n",
              "      <td>...</td>\n",
              "      <td>...</td>\n",
              "      <td>...</td>\n",
              "      <td>...</td>\n",
              "      <td>...</td>\n",
              "      <td>...</td>\n",
              "      <td>...</td>\n",
              "    </tr>\n",
              "    <tr>\n",
              "      <th>1776</th>\n",
              "      <td>False</td>\n",
              "      <td>False</td>\n",
              "      <td>True</td>\n",
              "      <td>False</td>\n",
              "      <td>False</td>\n",
              "      <td>False</td>\n",
              "      <td>False</td>\n",
              "      <td>False</td>\n",
              "      <td>False</td>\n",
              "      <td>False</td>\n",
              "      <td>False</td>\n",
              "      <td>False</td>\n",
              "      <td>False</td>\n",
              "      <td>False</td>\n",
              "    </tr>\n",
              "    <tr>\n",
              "      <th>1777</th>\n",
              "      <td>False</td>\n",
              "      <td>False</td>\n",
              "      <td>True</td>\n",
              "      <td>False</td>\n",
              "      <td>False</td>\n",
              "      <td>False</td>\n",
              "      <td>False</td>\n",
              "      <td>False</td>\n",
              "      <td>False</td>\n",
              "      <td>False</td>\n",
              "      <td>False</td>\n",
              "      <td>False</td>\n",
              "      <td>False</td>\n",
              "      <td>False</td>\n",
              "    </tr>\n",
              "    <tr>\n",
              "      <th>1778</th>\n",
              "      <td>False</td>\n",
              "      <td>False</td>\n",
              "      <td>False</td>\n",
              "      <td>False</td>\n",
              "      <td>False</td>\n",
              "      <td>False</td>\n",
              "      <td>False</td>\n",
              "      <td>False</td>\n",
              "      <td>False</td>\n",
              "      <td>False</td>\n",
              "      <td>False</td>\n",
              "      <td>False</td>\n",
              "      <td>False</td>\n",
              "      <td>False</td>\n",
              "    </tr>\n",
              "    <tr>\n",
              "      <th>1779</th>\n",
              "      <td>False</td>\n",
              "      <td>False</td>\n",
              "      <td>True</td>\n",
              "      <td>False</td>\n",
              "      <td>False</td>\n",
              "      <td>False</td>\n",
              "      <td>False</td>\n",
              "      <td>False</td>\n",
              "      <td>False</td>\n",
              "      <td>False</td>\n",
              "      <td>False</td>\n",
              "      <td>False</td>\n",
              "      <td>False</td>\n",
              "      <td>False</td>\n",
              "    </tr>\n",
              "    <tr>\n",
              "      <th>1780</th>\n",
              "      <td>False</td>\n",
              "      <td>False</td>\n",
              "      <td>False</td>\n",
              "      <td>False</td>\n",
              "      <td>False</td>\n",
              "      <td>False</td>\n",
              "      <td>False</td>\n",
              "      <td>False</td>\n",
              "      <td>False</td>\n",
              "      <td>False</td>\n",
              "      <td>False</td>\n",
              "      <td>False</td>\n",
              "      <td>False</td>\n",
              "      <td>False</td>\n",
              "    </tr>\n",
              "  </tbody>\n",
              "</table>\n",
              "<p>1781 rows × 14 columns</p>\n",
              "</div>"
            ],
            "text/plain": [
              "      URL_LENGTH  NUMBER_SPECIAL_CHARACTERS  ...  DNS_QUERY_TIMES   Type\n",
              "0          False                      False  ...            False  False\n",
              "1          False                      False  ...            False  False\n",
              "2          False                      False  ...            False  False\n",
              "3          False                      False  ...            False  False\n",
              "4          False                      False  ...            False  False\n",
              "...          ...                        ...  ...              ...    ...\n",
              "1776       False                      False  ...            False  False\n",
              "1777       False                      False  ...            False  False\n",
              "1778       False                      False  ...            False  False\n",
              "1779       False                      False  ...            False  False\n",
              "1780       False                      False  ...            False  False\n",
              "\n",
              "[1781 rows x 14 columns]"
            ]
          },
          "metadata": {
            "tags": []
          },
          "execution_count": 36
        }
      ]
    },
    {
      "cell_type": "code",
      "metadata": {
        "id": "vCT7O8MpjcZA"
      },
      "source": [
        "dataset.dropna(axis=0, how='all', subset=['CONTENT_LENGTH'], inplace=True)"
      ],
      "execution_count": null,
      "outputs": []
    },
    {
      "cell_type": "markdown",
      "metadata": {
        "id": "Ue9-OAUiKQg5"
      },
      "source": [
        "Penerapan algoritma Extratree Classifier untuk mencari fitur-fitur yang terpenting "
      ]
    },
    {
      "cell_type": "code",
      "metadata": {
        "colab": {
          "base_uri": "https://localhost:8080/",
          "height": 302
        },
        "id": "NSxH_0BCjehh",
        "outputId": "a2eea9ed-55d5-4bac-d5a6-b52ccf20f591"
      },
      "source": [
        "X = dataset.iloc[:,0:12]\n",
        "y = dataset.iloc[:,13]   \n",
        "model = ExtraTreesClassifier()\n",
        "model.fit(X,y)\n",
        "print(model.feature_importances_) \n",
        "feat_importances = pd.Series(model.feature_importances_, index=X.columns)\n",
        "feat_importances.nlargest(5).plot(kind='barh', color='red')\n",
        "plt.show()"
      ],
      "execution_count": null,
      "outputs": [
        {
          "output_type": "stream",
          "text": [
            "[0.11838965 0.09868322 0.0730487  0.06345962 0.13876071 0.07968021\n",
            " 0.06807175 0.06677346 0.07243322 0.08029006 0.07636257 0.06404683]\n"
          ],
          "name": "stdout"
        },
        {
          "output_type": "display_data",
          "data": {
            "image/png": "[encoded data removed]",
            "text/plain": [
              "<Figure size 432x288 with 1 Axes>"
            ]
          },
          "metadata": {
            "tags": [],
            "needs_background": "light"
          }
        }
      ]
    },
    {
      "cell_type": "code",
      "metadata": {
        "colab": {
          "base_uri": "https://localhost:8080/",
          "height": 206
        },
        "id": "GlXtFdJ6jgRO",
        "outputId": "cecccf04-5dc7-4470-a5be-fea77a0dc93d"
      },
      "source": [
        "data_baru=dataset[['REMOTE_APP_BYTES','REMOTE_IPS','NUMBER_SPECIAL_CHARACTERS','URL_LENGTH','DIST_REMOTE_TCP_PORT','Type']]\n",
        "data_baru.head()"
      ],
      "execution_count": null,
      "outputs": [
        {
          "output_type": "execute_result",
          "data": {
            "text/html": [
              "<div>\n",
              "<style scoped>\n",
              "    .dataframe tbody tr th:only-of-type {\n",
              "        vertical-align: middle;\n",
              "    }\n",
              "\n",
              "    .dataframe tbody tr th {\n",
              "        vertical-align: top;\n",
              "    }\n",
              "\n",
              "    .dataframe thead th {\n",
              "        text-align: right;\n",
              "    }\n",
              "</style>\n",
              "<table border=\"1\" class=\"dataframe\">\n",
              "  <thead>\n",
              "    <tr style=\"text-align: right;\">\n",
              "      <th></th>\n",
              "      <th>REMOTE_APP_BYTES</th>\n",
              "      <th>REMOTE_IPS</th>\n",
              "      <th>NUMBER_SPECIAL_CHARACTERS</th>\n",
              "      <th>URL_LENGTH</th>\n",
              "      <th>DIST_REMOTE_TCP_PORT</th>\n",
              "      <th>Type</th>\n",
              "    </tr>\n",
              "  </thead>\n",
              "  <tbody>\n",
              "    <tr>\n",
              "      <th>0</th>\n",
              "      <td>832</td>\n",
              "      <td>2</td>\n",
              "      <td>7</td>\n",
              "      <td>16</td>\n",
              "      <td>0</td>\n",
              "      <td>1</td>\n",
              "    </tr>\n",
              "    <tr>\n",
              "      <th>1</th>\n",
              "      <td>1230</td>\n",
              "      <td>4</td>\n",
              "      <td>6</td>\n",
              "      <td>16</td>\n",
              "      <td>7</td>\n",
              "      <td>0</td>\n",
              "    </tr>\n",
              "    <tr>\n",
              "      <th>2</th>\n",
              "      <td>0</td>\n",
              "      <td>0</td>\n",
              "      <td>6</td>\n",
              "      <td>16</td>\n",
              "      <td>0</td>\n",
              "      <td>0</td>\n",
              "    </tr>\n",
              "    <tr>\n",
              "      <th>3</th>\n",
              "      <td>4380</td>\n",
              "      <td>3</td>\n",
              "      <td>6</td>\n",
              "      <td>17</td>\n",
              "      <td>22</td>\n",
              "      <td>0</td>\n",
              "    </tr>\n",
              "    <tr>\n",
              "      <th>4</th>\n",
              "      <td>4586</td>\n",
              "      <td>5</td>\n",
              "      <td>6</td>\n",
              "      <td>17</td>\n",
              "      <td>2</td>\n",
              "      <td>0</td>\n",
              "    </tr>\n",
              "  </tbody>\n",
              "</table>\n",
              "</div>"
            ],
            "text/plain": [
              "   REMOTE_APP_BYTES  REMOTE_IPS  ...  DIST_REMOTE_TCP_PORT  Type\n",
              "0               832           2  ...                     0     1\n",
              "1              1230           4  ...                     7     0\n",
              "2                 0           0  ...                     0     0\n",
              "3              4380           3  ...                    22     0\n",
              "4              4586           5  ...                     2     0\n",
              "\n",
              "[5 rows x 6 columns]"
            ]
          },
          "metadata": {
            "tags": []
          },
          "execution_count": 39
        }
      ]
    },
    {
      "cell_type": "code",
      "metadata": {
        "colab": {
          "base_uri": "https://localhost:8080/",
          "height": 280
        },
        "id": "BU4jrD1-jiyx",
        "outputId": "eaed045e-e434-4336-9bb6-901507404db5"
      },
      "source": [
        "data_baru['Type'].value_counts().plot.bar()"
      ],
      "execution_count": null,
      "outputs": [
        {
          "output_type": "execute_result",
          "data": {
            "text/plain": [
              "<matplotlib.axes._subplots.AxesSubplot at 0x7fe194f39080>"
            ]
          },
          "metadata": {
            "tags": []
          },
          "execution_count": 40
        },
        {
          "output_type": "display_data",
          "data": {
            "image/png": "[encoded data removed]",
            "text/plain": [
              "<Figure size 432x288 with 1 Axes>"
            ]
          },
          "metadata": {
            "tags": [],
            "needs_background": "light"
          }
        }
      ]
    },
    {
      "cell_type": "code",
      "metadata": {
        "colab": {
          "base_uri": "https://localhost:8080/"
        },
        "id": "oOhi0vfDjwUs",
        "outputId": "8d96bd08-0eb4-4133-c1ba-a3b972ecb075"
      },
      "source": [
        "print('Proportion of the classes in the data:')\n",
        "print(data_baru['Type'].value_counts() / len(data_baru))"
      ],
      "execution_count": null,
      "outputs": [
        {
          "output_type": "stream",
          "text": [
            "Proportion of the classes in the data:\n",
            "0    0.890609\n",
            "1    0.109391\n",
            "Name: Type, dtype: float64\n"
          ],
          "name": "stdout"
        }
      ]
    },
    {
      "cell_type": "code",
      "metadata": {
        "id": "j8KJaYdpj6Kz"
      },
      "source": [
        "malicious = data_baru[data_baru.Type == 1]\n",
        "normal = data_baru[data_baru.Type == 0]"
      ],
      "execution_count": null,
      "outputs": []
    },
    {
      "cell_type": "code",
      "metadata": {
        "colab": {
          "base_uri": "https://localhost:8080/"
        },
        "id": "EorziOrkkCgw",
        "outputId": "d135d9a0-bfe7-4e92-8bfd-5e0016734bb7"
      },
      "source": [
        "malicious.URL_LENGTH.describe()"
      ],
      "execution_count": null,
      "outputs": [
        {
          "output_type": "execute_result",
          "data": {
            "text/plain": [
              "count    106.000000\n",
              "mean      42.160377\n",
              "std       15.978043\n",
              "min       16.000000\n",
              "25%       35.000000\n",
              "50%       39.000000\n",
              "75%       43.750000\n",
              "max      105.000000\n",
              "Name: URL_LENGTH, dtype: float64"
            ]
          },
          "metadata": {
            "tags": []
          },
          "execution_count": 43
        }
      ]
    },
    {
      "cell_type": "code",
      "metadata": {
        "colab": {
          "base_uri": "https://localhost:8080/"
        },
        "id": "KLD-BXMokExA",
        "outputId": "7223bfd1-8938-4b53-810e-1c4234c8c4a4"
      },
      "source": [
        "normal.URL_LENGTH.describe()"
      ],
      "execution_count": null,
      "outputs": [
        {
          "output_type": "execute_result",
          "data": {
            "text/plain": [
              "count    863.000000\n",
              "mean      57.271147\n",
              "std       26.062671\n",
              "min       16.000000\n",
              "25%       40.000000\n",
              "50%       51.000000\n",
              "75%       69.000000\n",
              "max      249.000000\n",
              "Name: URL_LENGTH, dtype: float64"
            ]
          },
          "metadata": {
            "tags": []
          },
          "execution_count": 44
        }
      ]
    },
    {
      "cell_type": "code",
      "metadata": {
        "colab": {
          "base_uri": "https://localhost:8080/",
          "height": 308
        },
        "id": "ScrFCqTekG8L",
        "outputId": "51cdf2dd-643e-4eeb-d6a9-d1a33840e756"
      },
      "source": [
        "f, (ax1, ax2) = plt.subplots(2, 1, sharex=True)\n",
        "f.suptitle('Time of transaction vs Amount by class')\n",
        "\n",
        "ax1.scatter(malicious.URL_LENGTH, malicious.NUMBER_SPECIAL_CHARACTERS)\n",
        "ax1.set_title('Fraud')\n",
        "\n",
        "ax2.scatter(normal.URL_LENGTH, normal.NUMBER_SPECIAL_CHARACTERS)\n",
        "ax2.set_title('Normal')\n",
        "\n",
        "plt.xlabel('Time (in Seconds)')\n",
        "plt.ylabel('Amount')\n",
        "plt.show()"
      ],
      "execution_count": null,
      "outputs": [
        {
          "output_type": "display_data",
          "data": {
            "image/png": "[encoded data removed]",
            "text/plain": [
              "<Figure size 432x288 with 2 Axes>"
            ]
          },
          "metadata": {
            "tags": [],
            "needs_background": "light"
          }
        }
      ]
    },
    {
      "cell_type": "code",
      "metadata": {
        "id": "xhvT3QaZkJkq"
      },
      "source": [
        "X = data_baru.iloc[:, data_baru.columns != 'Type']\n",
        "y = data_baru.iloc[:, data_baru.columns == 'Type']"
      ],
      "execution_count": null,
      "outputs": []
    },
    {
      "cell_type": "markdown",
      "metadata": {
        "id": "D67aHUYeK1P3"
      },
      "source": [
        "Tahapan 3. Pembuatan model klasifikasi menggunakan Algoritma Random Forest"
      ]
    },
    {
      "cell_type": "code",
      "metadata": {
        "id": "B7jGwtwcl0jw"
      },
      "source": [
        "X_train,X_test,y_train,y_test=train_test_split(X,y,test_size=0.2,random_state=5)"
      ],
      "execution_count": null,
      "outputs": []
    },
    {
      "cell_type": "markdown",
      "metadata": {
        "id": "af3qlJFmLIaM"
      },
      "source": [
        "Model Klasifikasi Random Forest"
      ]
    },
    {
      "cell_type": "code",
      "metadata": {
        "colab": {
          "base_uri": "https://localhost:8080/"
        },
        "id": "jXBzfUGvnl_Z",
        "outputId": "6be34122-e592-4665-fd81-7ff64aa1e9ba"
      },
      "source": [
        "model = RandomForestClassifier(n_estimators=100)\n",
        "model.fit(X_train,y_train)\n",
        "model_pred = model.predict(X_test)"
      ],
      "execution_count": null,
      "outputs": [
        {
          "output_type": "stream",
          "text": [
            "/usr/local/lib/python3.6/dist-packages/ipykernel_launcher.py:2: DataConversionWarning: A column-vector y was passed when a 1d array was expected. Please change the shape of y to (n_samples,), for example using ravel().\n",
            "  \n"
          ],
          "name": "stderr"
        }
      ]
    },
    {
      "cell_type": "code",
      "metadata": {
        "colab": {
          "base_uri": "https://localhost:8080/",
          "height": 644
        },
        "id": "n51YBwXIno9h",
        "outputId": "3557e171-bc69-4a5a-9d5c-6bbc98d87e52"
      },
      "source": [
        "print(\"=== Accuracy ====\")\n",
        "print(metrics.accuracy_score(y_test, model_pred))\n",
        "print('\\n')\n",
        "print(\"=== Confusion Matrix ===\")\n",
        "cm = confusion_matrix(y_test, model_pred)\n",
        "plt.figure(1)\n",
        "sns.heatmap(cm,annot=True,fmt=\"d\")\n",
        "plt.title(\"Confusion Matrix - Random Forest Classifier\")\n",
        "plt.ylabel('True Label')\n",
        "plt.xlabel('Predicted label')\n",
        "plt.show()\n",
        "print('\\n')\n",
        "print(\"=== Classification Report ===\")\n",
        "print(classification_report(y_test, model_pred))\n",
        "print('\\n')"
      ],
      "execution_count": null,
      "outputs": [
        {
          "output_type": "stream",
          "text": [
            "=== Accuracy ====\n",
            "0.979381443298969\n",
            "\n",
            "\n",
            "=== Confusion Matrix ===\n"
          ],
          "name": "stdout"
        },
        {
          "output_type": "display_data",
          "data": {
            "image/png": "[encoded data removed]",
            "text/plain": [
              "<Figure size 432x288 with 2 Axes>"
            ]
          },
          "metadata": {
            "tags": [],
            "needs_background": "light"
          }
        },
        {
          "output_type": "stream",
          "text": [
            "\n",
            "\n",
            "=== Classification Report ===\n",
            "              precision    recall  f1-score   support\n",
            "\n",
            "           0       0.98      1.00      0.99       175\n",
            "           1       1.00      0.79      0.88        19\n",
            "\n",
            "    accuracy                           0.98       194\n",
            "   macro avg       0.99      0.89      0.94       194\n",
            "weighted avg       0.98      0.98      0.98       194\n",
            "\n",
            "\n",
            "\n"
          ],
          "name": "stdout"
        }
      ]
    },
    {
      "cell_type": "code",
      "metadata": {
        "id": "stI2UiYqn-qy"
      },
      "source": [
        "proba = model.predict_proba(X_test)[:,1] \n",
        "fpr, tpr, thresholds = metrics.roc_curve(y_test,proba)\n",
        "roc_auc=auc(fpr, tpr)"
      ],
      "execution_count": null,
      "outputs": []
    },
    {
      "cell_type": "code",
      "metadata": {
        "colab": {
          "base_uri": "https://localhost:8080/",
          "height": 295
        },
        "id": "RCQPkxfYoEFK",
        "outputId": "a76a3ac2-c5b6-4daf-a996-4340581c77ea"
      },
      "source": [
        "  plt.figure(2)\n",
        "  plt.xlim([4e-5, 1.0])\n",
        "  plt.ylim([0.65, 1.01])\n",
        "  plt.plot(fpr, tpr, label='ROC curver (area = %0.3f)' % roc_auc)\n",
        "  plt.plot([0,1],[0,1],'k--')\n",
        "  plt.xlabel('False Positive Rate')\n",
        "  plt.ylabel('True Posistive Rate')\n",
        "  plt.title('ROC Curve - Random Forest Classifier')\n",
        "  plt.legend(loc=\"lower right\")\n",
        "  plt.show()"
      ],
      "execution_count": null,
      "outputs": [
        {
          "output_type": "display_data",
          "data": {
            "image/png": "[encoded data removed]",
            "text/plain": [
              "<Figure size 432x288 with 1 Axes>"
            ]
          },
          "metadata": {
            "tags": [],
            "needs_background": "light"
          }
        }
      ]
    },
    {
      "cell_type": "code",
      "metadata": {
        "colab": {
          "base_uri": "https://localhost:8080/",
          "height": 295
        },
        "id": "26dQyGvUon2b",
        "outputId": "0bf55e7f-b304-42a9-b564-cf41de1d71f5"
      },
      "source": [
        "p,r,f1 = precision_recall_curve(y_test,proba)\n",
        "plt.figure(3)\n",
        "plt.plot(r, p, label='Precision Recall curve' )\n",
        "plt.xlabel('Recall')\n",
        "plt.ylabel('Precision')\n",
        "plt.title('PR Curve - Random Forest Classifier')\n",
        "plt.legend(loc=\"lower right\")\n",
        "plt.show()"
      ],
      "execution_count": null,
      "outputs": [
        {
          "output_type": "display_data",
          "data": {
            "image/png": "[encoded data removed]",
            "text/plain": [
              "<Figure size 432x288 with 1 Axes>"
            ]
          },
          "metadata": {
            "tags": [],
            "needs_background": "light"
          }
        }
      ]
    },
    {
      "cell_type": "markdown",
      "metadata": {
        "id": "zT_m1Be3Ltfa"
      },
      "source": [
        "Analysis akurasi klasifikasi Random Forest menggunakan metode BACC"
      ]
    },
    {
      "cell_type": "code",
      "metadata": {
        "colab": {
          "base_uri": "https://localhost:8080/"
        },
        "id": "GYABx6lzbRsF",
        "outputId": "02c26f8e-127b-4e1f-8785-a58cf354425b"
      },
      "source": [
        "import math\r\n",
        "TP = 175\r\n",
        "TN = 14\r\n",
        "FP = 0\r\n",
        "FN = 5\r\n",
        "P= TP+FP\r\n",
        "N= TN+FN\r\n",
        "BACC = ((TP/P)+(TN/N))/2\r\n",
        "print('Nilai BACC nya sebesar : ',BACC)"
      ],
      "execution_count": null,
      "outputs": [
        {
          "output_type": "stream",
          "text": [
            "Nilai BACC nya sebesar :  0.868421052631579\n",
            "Nilai MCC nya sebesar :  0.44095855184409843\n"
          ],
          "name": "stdout"
        }
      ]
    },
    {
      "cell_type": "code",
      "metadata": {
        "colab": {
          "base_uri": "https://localhost:8080/"
        },
        "id": "87vu4Eyhpbg8",
        "outputId": "cdacb434-c715-41ec-b4df-ad1f740c2583"
      },
      "source": [
        "X_resample, y_resample = SMOTE().fit_sample(X,y.values.ravel())"
      ],
      "execution_count": null,
      "outputs": [
        {
          "output_type": "stream",
          "text": [
            "/usr/local/lib/python3.6/dist-packages/sklearn/utils/deprecation.py:87: FutureWarning: Function safe_indexing is deprecated; safe_indexing is deprecated in version 0.22 and will be removed in version 0.24.\n",
            "  warnings.warn(msg, category=FutureWarning)\n"
          ],
          "name": "stderr"
        }
      ]
    },
    {
      "cell_type": "code",
      "metadata": {
        "colab": {
          "base_uri": "https://localhost:8080/",
          "height": 280
        },
        "id": "9pxaT-ZMrhGM",
        "outputId": "4d902c6b-6b28-4180-85a3-37be46b1a19c"
      },
      "source": [
        "pd.Series(y_resample).value_counts().plot.bar()"
      ],
      "execution_count": null,
      "outputs": [
        {
          "output_type": "execute_result",
          "data": {
            "text/plain": [
              "<matplotlib.axes._subplots.AxesSubplot at 0x7fe190c76f98>"
            ]
          },
          "metadata": {
            "tags": []
          },
          "execution_count": 55
        },
        {
          "output_type": "display_data",
          "data": {
            "image/png": "[encoded data removed]",
            "text/plain": [
              "<Figure size 432x288 with 1 Axes>"
            ]
          },
          "metadata": {
            "tags": [],
            "needs_background": "light"
          }
        }
      ]
    },
    {
      "cell_type": "markdown",
      "metadata": {
        "id": "sQZUU6FJLRao"
      },
      "source": [
        "Model klasifikasi menggunakan Random Forest dan SMOTE"
      ]
    },
    {
      "cell_type": "code",
      "metadata": {
        "id": "Lf69sL96rfn1"
      },
      "source": [
        "y_resample = pd.DataFrame(y_resample)\n",
        "X_resample = pd.DataFrame(X_resample)\n",
        "X_train, X_test, y_train, y_test = train_test_split(X_resample,y_resample,test_size=0.2,random_state=5)\n",
        "X_train = np.array(X_train)\n",
        "X_test = np.array(X_test)\n",
        "y_train = np.array(y_train)\n",
        "y_test = np.array(y_test)"
      ],
      "execution_count": null,
      "outputs": []
    },
    {
      "cell_type": "code",
      "metadata": {
        "colab": {
          "base_uri": "https://localhost:8080/"
        },
        "id": "Stn13aPeruSG",
        "outputId": "52c8af8c-2343-47ad-dd29-aea436edec96"
      },
      "source": [
        "model = RandomForestClassifier(n_estimators=100)\n",
        "model.fit(X_train,y_train)\n",
        "model_pred = model.predict(X_test)"
      ],
      "execution_count": null,
      "outputs": [
        {
          "output_type": "stream",
          "text": [
            "/usr/local/lib/python3.6/dist-packages/ipykernel_launcher.py:2: DataConversionWarning: A column-vector y was passed when a 1d array was expected. Please change the shape of y to (n_samples,), for example using ravel().\n",
            "  \n"
          ],
          "name": "stderr"
        }
      ]
    },
    {
      "cell_type": "code",
      "metadata": {
        "colab": {
          "base_uri": "https://localhost:8080/",
          "height": 644
        },
        "id": "eRKNfpiSrz5C",
        "outputId": "c224d64b-2fd3-4c57-f435-2faf4cf7e92d"
      },
      "source": [
        "print(\"=== Accuracy ====\")\n",
        "print(metrics.accuracy_score(y_test, model_pred))\n",
        "print('\\n')\n",
        "print(\"=== Confusion Matrix ===\")\n",
        "cm = confusion_matrix(y_test, model_pred)\n",
        "plt.figure(1)\n",
        "sns.heatmap(cm,annot=True,fmt=\"d\")\n",
        "plt.title(\"Confusion Matrix - Random Forest Classifier ++ Smote\")\n",
        "plt.ylabel('True Label')\n",
        "plt.xlabel('Predicted label')\n",
        "plt.show()\n",
        "print('\\n')\n",
        "print(\"=== Classification Report ===\")\n",
        "print(classification_report(y_test, model_pred))\n",
        "print('\\n')"
      ],
      "execution_count": null,
      "outputs": [
        {
          "output_type": "stream",
          "text": [
            "=== Accuracy ====\n",
            "0.9393063583815029\n",
            "\n",
            "\n",
            "=== Confusion Matrix ===\n"
          ],
          "name": "stdout"
        },
        {
          "output_type": "display_data",
          "data": {
            "image/png": "[encoded data removed]",
            "text/plain": [
              "<Figure size 432x288 with 2 Axes>"
            ]
          },
          "metadata": {
            "tags": [],
            "needs_background": "light"
          }
        },
        {
          "output_type": "stream",
          "text": [
            "\n",
            "\n",
            "=== Classification Report ===\n",
            "              precision    recall  f1-score   support\n",
            "\n",
            "           0       0.95      0.91      0.93       156\n",
            "           1       0.93      0.96      0.95       190\n",
            "\n",
            "    accuracy                           0.94       346\n",
            "   macro avg       0.94      0.94      0.94       346\n",
            "weighted avg       0.94      0.94      0.94       346\n",
            "\n",
            "\n",
            "\n"
          ],
          "name": "stdout"
        }
      ]
    },
    {
      "cell_type": "markdown",
      "metadata": {
        "id": "UB7kmiC_LW_f"
      },
      "source": [
        "Analysis akurasi klasifikasi Random Forest  + SMOTE menggunakan metode BACC"
      ]
    },
    {
      "cell_type": "code",
      "metadata": {
        "colab": {
          "base_uri": "https://localhost:8080/"
        },
        "id": "OtPZYAxLe_F1",
        "outputId": "3bc6d771-82b6-4d95-a4b8-90a14c2f389f"
      },
      "source": [
        "TP = 142\r\n",
        "TN = 182\r\n",
        "FP = 14\r\n",
        "FN = 8\r\n",
        "P= TP+FP\r\n",
        "N= TN+FN\r\n",
        "BACC = ((TP/P)+(TN/N))/2\r\n",
        "print('Nilai BACC nya sebesar : ',BACC)"
      ],
      "execution_count": null,
      "outputs": [
        {
          "output_type": "stream",
          "text": [
            "Nilai BACC nya sebesar :  0.9340755735492577\n"
          ],
          "name": "stdout"
        }
      ]
    },
    {
      "cell_type": "code",
      "metadata": {
        "colab": {
          "base_uri": "https://localhost:8080/",
          "height": 295
        },
        "id": "arDyKuzDr337",
        "outputId": "003c10c8-47ac-487a-c060-5a01cae517e5"
      },
      "source": [
        "proba = model.predict_proba(X_test)[:,1]\n",
        "fpr, tpr, thresholds = metrics.roc_curve(y_test,proba)\n",
        "roc_auc=auc(fpr, tpr)\n",
        "\n",
        "plt.figure(2)\n",
        "plt.xlim([4e-5, 1.0])\n",
        "plt.ylim([0.65, 1.01])\n",
        "plt.plot(fpr, tpr, label='ROC curver (area = %0.3f)' % roc_auc)\n",
        "plt.plot([0,1],[0,1],'k--')\n",
        "plt.xlabel('False Positive Rate')\n",
        "plt.ylabel('True Posistive Rate')\n",
        "plt.title('ROC Curve - Random Forest Classifier')\n",
        "plt.legend(loc=\"lower right\")\n",
        "plt.show()"
      ],
      "execution_count": null,
      "outputs": [
        {
          "output_type": "display_data",
          "data": {
            "image/png": "[encoded data removed]",
            "text/plain": [
              "<Figure size 432x288 with 1 Axes>"
            ]
          },
          "metadata": {
            "tags": [],
            "needs_background": "light"
          }
        }
      ]
    },
    {
      "cell_type": "code",
      "metadata": {
        "colab": {
          "base_uri": "https://localhost:8080/",
          "height": 295
        },
        "id": "YHAxkAHhsB8j",
        "outputId": "eace71cc-e714-4018-9f6c-95785a1796fa"
      },
      "source": [
        "p,r,f1 = precision_recall_curve(y_test,proba)\n",
        "plt.figure(3)\n",
        "plt.plot(r, p, label='Precision Recall curve' )\n",
        "plt.xlabel('Recall')\n",
        "plt.ylabel('Precision')\n",
        "plt.title('PR Curve - Random Forest Classifier')\n",
        "plt.legend(loc=\"lower right\")\n",
        "plt.show()"
      ],
      "execution_count": null,
      "outputs": [
        {
          "output_type": "display_data",
          "data": {
            "image/png": "[encoded data removed]",
            "text/plain": [
              "<Figure size 432x288 with 1 Axes>"
            ]
          },
          "metadata": {
            "tags": [],
            "needs_background": "light"
          }
        }
      ]
    },
    {
      "cell_type": "markdown",
      "metadata": {
        "id": "uW316ziBrUF_"
      },
      "source": [
        "Hasil analisis\r\n",
        "1. Data yang diperolah dari website Kaggle tersebut bersifat unbalance atau tidak seimbang.\r\n",
        "2. pada percobaan kali ini menggunakan metode Extratree Classifier yang berguna untuk pemilihan fitur-fitur terbaik pada dataset\r\n",
        "3. Berdasarkan bantuan dari metode Extratree Classifier, terdapat 5 buah fitur terbaik denan nilai tertinggi sebesar 0.12 dan terkecil sebesar 0.09.\r\n",
        "4. Hasil klasifikasi yang ditunjukkan oleh matrix confusion, menunjukkan bahwa hasil klasifikasi tanpa smote lebih baik ketimbang menggunakan smote\r\n",
        "5. Berdasarkan metode evaluasi BACC menunjukkan bahwa, hasil klasifikasi terbaik menggunakan algortima Random Forest + SMOTE menjadi yang terbaik dibuktikan dengan nilai BACC yang lebih tinggi dibandingkan dengan model tanpa SMOTE"
      ]
    },
    {
      "cell_type": "code",
      "metadata": {
        "id": "x0p4aR_SMMmr"
      },
      "source": [
        ""
      ],
      "execution_count": null,
      "outputs": []
    }
  ]
}